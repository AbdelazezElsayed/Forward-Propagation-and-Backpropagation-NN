{
 "cells": [
  {
   "cell_type": "code",
   "execution_count": 8,
   "id": "5849d762",
   "metadata": {},
   "outputs": [],
   "source": [
    "import random\n",
    "import math"
   ]
  },
  {
   "cell_type": "code",
   "execution_count": 9,
   "id": "0bbcf2f4",
   "metadata": {},
   "outputs": [],
   "source": [
    "def sigmoid(x):\n",
    "    return 1 / (1 + math.exp(-x))"
   ]
  },
  {
   "cell_type": "code",
   "execution_count": 10,
   "id": "8dd6a36d",
   "metadata": {},
   "outputs": [],
   "source": [
    "def sigmoid_derivative_output(o):\n",
    "    return o * (1 - o)"
   ]
  },
  {
   "cell_type": "code",
   "execution_count": 11,
   "id": "75d9f4c4",
   "metadata": {},
   "outputs": [],
   "source": [
    "class FF_BP:\n",
    "    def __init__(self):\n",
    "        self.w1 = random.uniform(-0.5, 0.5)\n",
    "        self.w2 = random.uniform(-0.5, 0.5)\n",
    "        self.w3 = random.uniform(-0.5, 0.5)\n",
    "        self.w4 = random.uniform(-0.5, 0.5)\n",
    "        self.w5 = random.uniform(-0.5, 0.5)\n",
    "        self.w6 = random.uniform(-0.5, 0.5)\n",
    "        self.w7 = random.uniform(-0.5, 0.5)\n",
    "        self.w8 = random.uniform(-0.5, 0.5)\n",
    "        self.b1 = 0.5\n",
    "        self.b2 = 0.7\n",
    "        self.learning_rate = 0.5\n",
    "\n",
    "    def forward(self, x1, x2):\n",
    "        self.x1, self.x2 = x1, x2\n",
    "        self.z1 = self.w1 * x1 + self.w2 * x2 + self.b1\n",
    "        self.h1 = sigmoid(self.z1)\n",
    "        self.z2 = self.w3 * x1 + self.w4 * x2 + self.b1\n",
    "        self.h2 = sigmoid(self.z2)\n",
    "        self.z3 = self.w5 * self.h1 + self.w6 * self.h2 + self.b2\n",
    "        self.o1 = sigmoid(self.z3)\n",
    "        self.z4 = self.w7 * self.h1 + self.w8 * self.h2 + self.b2\n",
    "        self.o2 = sigmoid(self.z4)\n",
    "        return self.o1, self.o2\n",
    "\n",
    "    def backward(self, target1, target2):\n",
    "        delta_o1 = (self.o1 - target1) * sigmoid_derivative_output(self.o1)\n",
    "        delta_o2 = (self.o2 - target2) * sigmoid_derivative_output(self.o2)\n",
    "\n",
    "        delta_w5 = delta_o1 * self.h1\n",
    "        delta_w6 = delta_o1 * self.h2\n",
    "        delta_w7 = delta_o2 * self.h1\n",
    "        delta_w8 = delta_o2 * self.h2\n",
    "        delta_b2 = delta_o1 + delta_o2\n",
    "\n",
    "        delta_h1 = (\n",
    "            delta_o1 * self.w5 + delta_o2 * self.w7\n",
    "        ) * sigmoid_derivative_output(self.h1)\n",
    "        delta_h2 = (\n",
    "            delta_o1 * self.w6 + delta_o2 * self.w8\n",
    "        ) * sigmoid_derivative_output(self.h2)\n",
    "\n",
    "        delta_w1 = delta_h1 * self.x1\n",
    "        delta_w2 = delta_h1 * self.x2\n",
    "        delta_w3 = delta_h2 * self.x1\n",
    "        delta_w4 = delta_h2 * self.x2\n",
    "        delta_b1 = delta_h1 + delta_h2\n",
    "\n",
    "        self.w1 -= self.learning_rate * delta_w1\n",
    "        self.w2 -= self.learning_rate * delta_w2\n",
    "        self.w3 -= self.learning_rate * delta_w3\n",
    "        self.w4 -= self.learning_rate * delta_w4\n",
    "        self.w5 -= self.learning_rate * delta_w5\n",
    "        self.w6 -= self.learning_rate * delta_w6\n",
    "        self.w7 -= self.learning_rate * delta_w7\n",
    "        self.w8 -= self.learning_rate * delta_w8\n",
    "        self.b1 -= self.learning_rate * delta_b1\n",
    "        self.b2 -= self.learning_rate * delta_b2\n",
    "\n",
    "    def train(self, x1, x2, target1, target2, epochs):\n",
    "        for i in range(epochs):\n",
    "            o1, o2 = self.forward(x1, x2)\n",
    "            self.backward(target1, target2)\n",
    "            error1 = o1 - target1\n",
    "            error2 = o2 - target2\n",
    "            if (i + 1) % 10 == 0 or i == 0:  # Print every 10 epochs or first epoch\n",
    "                print(\n",
    "                    f\"Epoch {i + 1}, Output: ({o1}, {o2}), Error: ({error1}, {error2})\"\n",
    "                )"
   ]
  },
  {
   "cell_type": "code",
   "execution_count": 12,
   "id": "cdf0e647",
   "metadata": {},
   "outputs": [
    {
     "name": "stdout",
     "output_type": "stream",
     "text": [
      "Epoch 1, Output: (0.632719393038294, 0.6509645040258227), Error: (0.13271939303829405, 0.35096450402582274)\n",
      "Epoch 10, Output: (0.5227414369692083, 0.4999021978524076), Error: (0.022741436969208273, 0.1999021978524076)\n",
      "Epoch 20, Output: (0.4757767083008941, 0.41386550991875243), Error: (-0.02422329169910592, 0.11386550991875244)\n",
      "Epoch 30, Output: (0.46493628193205183, 0.37373937087576786), Error: (-0.03506371806794817, 0.07373937087576787)\n",
      "Epoch 40, Output: (0.4663173387083394, 0.35228288804732033), Error: (-0.03368266129166059, 0.05228288804732034)\n",
      "Epoch 50, Output: (0.4712126416135442, 0.3390888717211549), Error: (-0.028787358386455797, 0.03908887172115494)\n",
      "Epoch 60, Output: (0.47653850649621016, 0.33007426120826516), Error: (-0.023461493503789843, 0.030074261208265174)\n",
      "Epoch 70, Output: (0.48128716906036817, 0.3234828980523554), Error: (-0.01871283093963183, 0.023482898052355428)\n",
      "Epoch 80, Output: (0.4852225841225478, 0.3184712877865079), Error: (-0.014777415877452182, 0.018471287786507917)\n",
      "Epoch 90, Output: (0.48838085529707714, 0.31458020017040755), Error: (-0.011619144702922857, 0.014580200170407565)\n",
      "Epoch 100, Output: (0.49087822862908675, 0.3115267188615119), Error: (-0.009121771370913245, 0.011526718861511909)\n",
      "Weights: -0.14715714710471745, -0.10952080163091556, 0.06845020781095512, 0.22930661389014928, 0.04438489380603349, -0.09224079492110226, -0.8728656910542083, -0.34635959977630854\n",
      "Biases: 0.626106071570134, -0.0029687616616454527\n",
      "Input: 0.1, 0.2\n",
      "Final Output: (0.4910965331841627, 0.31125948647626717)\n"
     ]
    }
   ],
   "source": [
    "nn = FF_BP()\n",
    "x1, x2 = 0.1, 0.2\n",
    "target1, target2 = 0.5, 0.3\n",
    "nn.train(x1, x2, target1, target2, 100)\n",
    "\n",
    "print(\n",
    "    f\"Weights: {nn.w1}, {nn.w2}, {nn.w3}, {nn.w4}, {nn.w5}, {nn.w6}, {nn.w7}, {nn.w8}\"\n",
    ")\n",
    "print(f\"Biases: {nn.b1}, {nn.b2}\")\n",
    "print(f\"Input: {x1}, {x2}\")\n",
    "print(f\"Final Output: {nn.forward(x1, x2)}\")\n"
   ]
  },
  {
   "cell_type": "code",
   "execution_count": null,
   "id": "0b913a3a",
   "metadata": {},
   "outputs": [],
   "source": []
  }
 ],
 "metadata": {
  "kernelspec": {
   "display_name": "Python 3 (ipykernel)",
   "language": "python",
   "name": "python3"
  },
  "language_info": {
   "codemirror_mode": {
    "name": "ipython",
    "version": 3
   },
   "file_extension": ".py",
   "mimetype": "text/x-python",
   "name": "python",
   "nbconvert_exporter": "python",
   "pygments_lexer": "ipython3",
   "version": "3.9.13"
  }
 },
 "nbformat": 4,
 "nbformat_minor": 5
}
